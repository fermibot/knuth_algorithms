{
 "cells": [
  {
   "cell_type": "markdown",
   "metadata": {},
   "source": [
    "# 1.2.4 Integer Functions and Elementary Number Theory\n",
    "\n",
    "$\\def\\lc{\\left\\lceil}$\n",
    "$\\def\\rc{\\right\\rceil}$\n",
    "\n",
    "\n",
    "- Ceiling $x$ denoted by $\\lc x \\rc$\n",
    "- Floor $x$ denoted by "
   ]
  },
  {
   "cell_type": "code",
   "execution_count": 1,
   "metadata": {},
   "outputs": [],
   "source": [
    "from __future__ import print_function\n",
    "import json\n",
    "import urllib"
   ]
  },
  {
   "cell_type": "code",
   "execution_count": 2,
   "metadata": {},
   "outputs": [
    {
     "name": "stdout",
     "output_type": "stream",
     "text": [
      "Humbreaders (133.0303039550781)\n",
      "First of October (23.5030345916748)\n",
      "Spotify (16.10853576660156)\n",
      "Johnny Depp (1.728789925575256)\n",
      "The Ringer (1.444620966911316)\n",
      "Let Her Go (1.158781170845032)\n",
      "Yellow (1.10876476764679)\n",
      "Origines (1)\n",
      "The Lego Group (0.8074455857276917)\n",
      "7 Years (0.7944796085357666)\n"
     ]
    }
   ],
   "source": [
    "api_key = open('.api_key').read()\n",
    "query = 'www.spotify.com spotify'\n",
    "service_url = 'https://kgsearch.googleapis.com/v1/entities:search'\n",
    "params = {\n",
    "    'query': query,\n",
    "    'limit': 10,\n",
    "    'indent': True,\n",
    "    'key': api_key,\n",
    "}\n",
    "url = service_url + '?' + urllib.parse.urlencode(params)\n",
    "response = json.loads(urllib.request.urlopen(url).read())\n",
    "for element in response['itemListElement']:\n",
    "    print(element['result']['name'] + ' (' + str(element['resultScore']) + ')')\n"
   ]
  },
  {
   "cell_type": "code",
   "execution_count": 3,
   "metadata": {},
   "outputs": [
    {
     "name": "stdout",
     "output_type": "stream",
     "text": [
      "Collecting pgeocode\n",
      "  Downloading pgeocode-0.3.0-py3-none-any.whl (8.5 kB)\n",
      "Collecting numpy\n",
      "  Downloading numpy-1.21.3-cp38-cp38-win32.whl (11.7 MB)\n",
      "Collecting requests\n",
      "  Downloading requests-2.26.0-py2.py3-none-any.whl (62 kB)\n",
      "Collecting pandas\n",
      "  Downloading pandas-1.3.4-cp38-cp38-win32.whl (9.1 MB)\n",
      "Collecting pytz>=2017.3\n",
      "  Downloading pytz-2021.3-py2.py3-none-any.whl (503 kB)\n",
      "Requirement already satisfied: python-dateutil>=2.7.3 in d:\\programming\\python\\knuth_algorithms\\venv\\lib\\site-packages (from pandas->pgeocode) (2.8.2)\n",
      "Collecting urllib3<1.27,>=1.21.1\n",
      "  Downloading urllib3-1.26.7-py2.py3-none-any.whl (138 kB)\n",
      "Collecting certifi>=2017.4.17\n",
      "  Downloading certifi-2021.10.8-py2.py3-none-any.whl (149 kB)\n",
      "Collecting idna<4,>=2.5\n",
      "  Downloading idna-3.3-py3-none-any.whl (61 kB)\n",
      "Collecting charset-normalizer~=2.0.0\n",
      "  Downloading charset_normalizer-2.0.7-py3-none-any.whl (38 kB)\n",
      "Requirement already satisfied: six>=1.5 in d:\\programming\\python\\knuth_algorithms\\venv\\lib\\site-packages (from python-dateutil>=2.7.3->pandas->pgeocode) (1.16.0)\n",
      "Installing collected packages: urllib3, pytz, numpy, idna, charset-normalizer, certifi, requests, pandas, pgeocode\n",
      "Successfully installed certifi-2021.10.8 charset-normalizer-2.0.7 idna-3.3 numpy-1.21.3 pandas-1.3.4 pgeocode-0.3.0 pytz-2021.3 requests-2.26.0 urllib3-1.26.7\n"
     ]
    }
   ],
   "source": [
    "!pip install pgeocode"
   ]
  },
  {
   "cell_type": "code",
   "execution_count": null,
   "metadata": {},
   "outputs": [],
   "source": [
    "import pgeocode\n",
    "\n",
    "dist = pgeocode.GeoDistance('GB')\n",
    "dist.query_postal_code('WC2N', 'EH53')"
   ]
  },
  {
   "cell_type": "code",
   "execution_count": null,
   "metadata": {},
   "outputs": [],
   "source": []
  }
 ],
 "metadata": {
  "kernelspec": {
   "display_name": "Python 3 (ipykernel)",
   "language": "python",
   "name": "python3"
  },
  "language_info": {
   "codemirror_mode": {
    "name": "ipython",
    "version": 3
   },
   "file_extension": ".py",
   "mimetype": "text/x-python",
   "name": "python",
   "nbconvert_exporter": "python",
   "pygments_lexer": "ipython3",
   "version": "3.8.3"
  }
 },
 "nbformat": 4,
 "nbformat_minor": 1
}
